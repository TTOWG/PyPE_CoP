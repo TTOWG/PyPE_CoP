{
 "cells": [
  {
   "cell_type": "markdown",
   "id": "a3304846",
   "metadata": {},
   "source": [
    "### PyPE_CoP Assignment 5"
   ]
  },
  {
   "cell_type": "markdown",
   "id": "5711859f",
   "metadata": {},
   "source": [
    "For a given 3-D discretized reservoir model, the permeability values of some gridblocks are so low that the Senior Reservoir Advisor (SRA) would like gridblocks with permeability lower than a specified cut-off value to be classified as ‘inactive’ while others are to be classified as ‘active’. Ultimately, he wants to know the numbers (counts) of gridblocks classified as ‘active’ and those classified as ‘inactive’."
   ]
  },
  {
   "cell_type": "markdown",
   "id": "84986701",
   "metadata": {},
   "source": [
    "As an initial attempt at the task, write a Python script to implement the following workflow:\n",
    "1.\tRequest for reservoir dimensions and discretization parameters.\n",
    "2.\tRequest for the cut-off value.\n",
    "3.\tInitialize counters\n",
    "4.\tLoop through successive columns in every row of all layers of the discretized reservoir model and perform the following at each iteration:\n",
    "\n",
    "    + Request for the permeability value.\n",
    "    + Classify the gridblock as intended.\n",
    "    + Increment the counters.\n",
    "    + Print the number of ‘active’ gridblocks in each layer (the SRA wants to know which layer to perforate)\n",
    "    \n",
    "5.\tPrint the percentage of ‘active’ gridblocks in the entire reservoir.\n",
    "\n",
    "A template script for this assignment is provided herein."
   ]
  },
  {
   "cell_type": "code",
   "execution_count": 1,
   "id": "80e42325",
   "metadata": {},
   "outputs": [
    {
     "name": "stdout",
     "output_type": "stream",
     "text": [
      "What is the dimension of the reservoir in x-axis?\n",
      "1000\n",
      "What is the dimension of the reservoir in y-axis?\n",
      "500\n",
      "What is the dimension of the reservoir in z-axis?\n",
      "100\n",
      "How many gridgblocks are there in x-axis?n\n",
      "2\n",
      "How many gridgblocks are there in y-axis?\n",
      "2\n",
      "How many gridgblocks are there in z-axis?\n",
      "2\n"
     ]
    }
   ],
   "source": [
    "#################### Task 1 ############################\n",
    "    # Request for reservoir dimensions and discretization parameters\n",
    "\n",
    "# Lx\n",
    "lx = float(input('What is the dimension of the reservoir in x-axis?\\n'))\n",
    "# Ly\n",
    "ly = float(input('What is the dimension of the reservoir in y-axis?\\n'))\n",
    "# Lz\n",
    "lz = float(input('What is the dimension of the reservoir in z-axis?\\n'))\n",
    "# nx\n",
    "nx = int(input('How many gridgblocks are there in x-axis?n\\n'))\n",
    "# ny\n",
    "ny = int(input('How many gridgblocks are there in y-axis?\\n'))\n",
    "# nz\n",
    "nz = int(input('How many gridgblocks are there in z-axis?\\n'))"
   ]
  },
  {
   "cell_type": "code",
   "execution_count": 2,
   "id": "5f3cfef0",
   "metadata": {},
   "outputs": [
    {
     "name": "stdout",
     "output_type": "stream",
     "text": [
      "What is the cut-off permeability value?5\n"
     ]
    }
   ],
   "source": [
    "#################### Task 2 ############################\n",
    "    # Request for the cut-off value\n",
    "cut_off = float(input('What is the cut-off permeability value?'))\n",
    "pass"
   ]
  },
  {
   "cell_type": "code",
   "execution_count": 3,
   "id": "bbbd4612",
   "metadata": {},
   "outputs": [],
   "source": [
    "#################### Task 3 ############################\n",
    "    # Initialize counters\n",
    "\n",
    "#n_active\n",
    "n_active = 0\n",
    "# n_inactive\n",
    "n_inactive = 0\n",
    "\n"
   ]
  },
  {
   "cell_type": "code",
   "execution_count": 4,
   "id": "c75fa9f6",
   "metadata": {},
   "outputs": [
    {
     "name": "stdout",
     "output_type": "stream",
     "text": [
      "What is the permeability value for this gridblock?\n",
      "10\n",
      "What is the permeability value for this gridblock?\n",
      "2\n",
      "What is the permeability value for this gridblock?\n",
      "15\n",
      "What is the permeability value for this gridblock?\n",
      "8\n",
      "The number of active gridblocks in Layer1 is 3\n",
      "What is the permeability value for this gridblock?\n",
      "23\n",
      "What is the permeability value for this gridblock?\n",
      "19\n",
      "What is the permeability value for this gridblock?\n",
      "1\n",
      "What is the permeability value for this gridblock?\n",
      "3\n",
      "The number of active gridblocks in Layer2 is 2\n"
     ]
    }
   ],
   "source": [
    "#################### Task 4 ############################\n",
    "    # Loop through all blocks (nested loop)\n",
    "for layer in range(1, nz+1):\n",
    "    # Initialize layer counter\n",
    "    layer_n_active = 0\n",
    "    layer_n_inactive = 0\n",
    "    # two nested loops go here\n",
    "    for row in range(1,ny+1):\n",
    "        for column in range(1,nx+1):\n",
    "            perm_val = float(input('What is the permeability value for this gridblock?\\n'))\n",
    "            if perm_val >= cut_off:\n",
    "                classify_as = 'active'\n",
    "                n_active = n_active + 1\n",
    "                layer_n_active = layer_n_active + 1\n",
    "            else:\n",
    "                classify_as = 'inactive'\n",
    "                n_inactive = n_inactive + 1\n",
    "                layer_n_inactive = layer_n_inactive + 1\n",
    "                \n",
    "    \n",
    "\n",
    "    # Print layer count\n",
    "    print(f'The number of active gridblocks in Layer{layer} is {layer_n_active}')"
   ]
  },
  {
   "cell_type": "code",
   "execution_count": 5,
   "id": "886be6a8",
   "metadata": {},
   "outputs": [
    {
     "name": "stdout",
     "output_type": "stream",
     "text": [
      "62.5\n",
      "37.5\n"
     ]
    }
   ],
   "source": [
    "#################### Task 5 ############################\n",
    "    # Print overall counts\n",
    "\n",
    "# Print 'active'\n",
    "pct_active = 100*n_active/(n_active+n_inactive)\n",
    "print(pct_active)\n",
    "\n",
    "# Print 'inactive'\n",
    "pct_inactive = 100*n_inactive/(n_active+n_inactive)\n",
    "print(pct_inactive)\n"
   ]
  },
  {
   "cell_type": "code",
   "execution_count": 6,
   "id": "7c7d0b1b",
   "metadata": {},
   "outputs": [
    {
     "data": {
      "text/plain": [
       "0.625"
      ]
     },
     "execution_count": 6,
     "metadata": {},
     "output_type": "execute_result"
    }
   ],
   "source": [
    "5/8\n"
   ]
  },
  {
   "cell_type": "code",
   "execution_count": 7,
   "id": "4fa1445b",
   "metadata": {},
   "outputs": [
    {
     "name": "stdout",
     "output_type": "stream",
     "text": [
      "5\n"
     ]
    }
   ],
   "source": [
    "print(n_active)"
   ]
  },
  {
   "cell_type": "code",
   "execution_count": null,
   "id": "96285e13",
   "metadata": {},
   "outputs": [],
   "source": []
  }
 ],
 "metadata": {
  "kernelspec": {
   "display_name": "Python 3 (ipykernel)",
   "language": "python",
   "name": "python3"
  },
  "language_info": {
   "codemirror_mode": {
    "name": "ipython",
    "version": 3
   },
   "file_extension": ".py",
   "mimetype": "text/x-python",
   "name": "python",
   "nbconvert_exporter": "python",
   "pygments_lexer": "ipython3",
   "version": "3.9.12"
  }
 },
 "nbformat": 4,
 "nbformat_minor": 5
}
