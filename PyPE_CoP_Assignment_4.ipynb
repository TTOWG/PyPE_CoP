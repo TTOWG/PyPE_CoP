{
 "cells": [
  {
   "cell_type": "markdown",
   "id": "a3304846",
   "metadata": {},
   "source": [
    "### PyPE_CoP Assignment 4"
   ]
  },
  {
   "cell_type": "markdown",
   "id": "5711859f",
   "metadata": {},
   "source": [
    "Write a _for_ loop  that computes the apparent molecular weigth of a natural gas mixture, given two lists: _molfrac_list_ and _molweight_list_. These two lists respectively contain the mole fractions and molecular weight of the components in the natural gas mixture. \n",
    "\n",
    "The apparent molecular weight of the mixture is computed thus:\n",
    "\n",
    "$$M_{app} = \\sum_{i}^{N}y_i\\times M_i = y_1M_1+y_2M_2+...+y_NM_N$$\n",
    "\n",
    "\n",
    "$y_i$ is the mole fraction of Component $i$\n",
    "\n",
    "$M_i$ is the molepcular weight of of Component $i$\n",
    "\n",
    "$N$ is the number of components in the mix."
   ]
  },
  {
   "cell_type": "markdown",
   "id": "84986701",
   "metadata": {},
   "source": [
    "You may test your script with the following lists already defined below."
   ]
  },
  {
   "cell_type": "code",
   "execution_count": 1,
   "id": "80e42325",
   "metadata": {},
   "outputs": [],
   "source": [
    "molfrac_list = [0.7, 0.18, 0.12]\n",
    "\n",
    "molweight_list = [16.04, 30.07, 44.097]"
   ]
  },
  {
   "cell_type": "code",
   "execution_count": 9,
   "id": "5f3cfef0",
   "metadata": {},
   "outputs": [
    {
     "name": "stdout",
     "output_type": "stream",
     "text": [
      "<zip object at 0x000002B6E44C3040>\n"
     ]
    }
   ],
   "source": [
    "list(zip(molfrac_list, molweight_list))"
   ]
  },
  {
   "cell_type": "code",
   "execution_count": 7,
   "id": "bbbd4612",
   "metadata": {},
   "outputs": [
    {
     "name": "stdout",
     "output_type": "stream",
     "text": [
      "The apparent molecular weight for the gas mixture is 21.93\n"
     ]
    }
   ],
   "source": [
    "# Write your script here.\n",
    "\n",
    "# (zip)i.e. combine the two lists\n",
    "component_data = zip(molfrac_list, molweight_list)\n",
    "\n",
    "app_molweigth = 0\n",
    "\n",
    "for frac,weight in component_data:\n",
    "    app_molweigth = app_molweigth + (frac*weight)\n",
    "    \n",
    "print(f'The apparent molecular weight for the gas mixture is {round(app_molweigth, 2)}')\n",
    "    "
   ]
  },
  {
   "cell_type": "code",
   "execution_count": null,
   "id": "c75fa9f6",
   "metadata": {},
   "outputs": [],
   "source": []
  }
 ],
 "metadata": {
  "kernelspec": {
   "display_name": "Python 3 (ipykernel)",
   "language": "python",
   "name": "python3"
  },
  "language_info": {
   "codemirror_mode": {
    "name": "ipython",
    "version": 3
   },
   "file_extension": ".py",
   "mimetype": "text/x-python",
   "name": "python",
   "nbconvert_exporter": "python",
   "pygments_lexer": "ipython3",
   "version": "3.9.12"
  }
 },
 "nbformat": 4,
 "nbformat_minor": 5
}
