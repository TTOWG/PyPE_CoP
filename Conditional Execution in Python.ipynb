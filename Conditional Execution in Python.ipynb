{
 "cells": [
  {
   "cell_type": "markdown",
   "id": "2b05b6a3",
   "metadata": {},
   "source": [
    "... to the only wise God - TTOWG"
   ]
  },
  {
   "cell_type": "markdown",
   "id": "ce54c558",
   "metadata": {},
   "source": [
    "# Conditional Execution in Python"
   ]
  },
  {
   "cell_type": "markdown",
   "id": "7a12f3a3",
   "metadata": {},
   "source": [
    "### Conditional Statements"
   ]
  },
  {
   "cell_type": "markdown",
   "id": "4d85b5a7",
   "metadata": {},
   "source": [
    "Conditional statements are written to make it possible for a program to check for some condition(s) and decide to either:\n",
    "+ perform a statement(s) or skip the statement(s), or \n",
    "+ choose between alternative (branches of) statements.\n",
    "\n",
    "So, the concept of _Condition_ is central to this kind of statements.\n",
    "\n",
    "These conditions are crafted using the concept of Boolean expressions.\n"
   ]
  },
  {
   "cell_type": "markdown",
   "id": "d465f457",
   "metadata": {},
   "source": [
    "A Boolean is a type of value; it can only be either **True** or **False**\n",
    "\n",
    "Just like the integer type can take values 1, 2, 3 e.t.c; the Boolean type can take one of just two values: True or False.\n",
    "\n",
    "For this reason, ‘True’ and ‘False’ are Python keywords reserved for Boolean values; a variable must not be named using these words. \n",
    "\n",
    "Now, a Boolean expression is essentially a comparison expression that evaluates to either True or False.\n"
   ]
  },
  {
   "cell_type": "code",
   "execution_count": 1,
   "id": "5a03bc0e",
   "metadata": {},
   "outputs": [
    {
     "data": {
      "text/plain": [
       "bool"
      ]
     },
     "execution_count": 1,
     "metadata": {},
     "output_type": "execute_result"
    }
   ],
   "source": [
    "type(True)"
   ]
  },
  {
   "cell_type": "code",
   "execution_count": 2,
   "id": "3bc084e8",
   "metadata": {},
   "outputs": [
    {
     "data": {
      "text/plain": [
       "bool"
      ]
     },
     "execution_count": 2,
     "metadata": {},
     "output_type": "execute_result"
    }
   ],
   "source": [
    "type(False)"
   ]
  },
  {
   "cell_type": "code",
   "execution_count": 4,
   "id": "8e5236bc",
   "metadata": {},
   "outputs": [
    {
     "data": {
      "text/plain": [
       "False"
      ]
     },
     "execution_count": 4,
     "metadata": {},
     "output_type": "execute_result"
    }
   ],
   "source": [
    "2>7"
   ]
  },
  {
   "cell_type": "code",
   "execution_count": 5,
   "id": "caf5f364",
   "metadata": {},
   "outputs": [
    {
     "data": {
      "text/plain": [
       "True"
      ]
     },
     "execution_count": 5,
     "metadata": {},
     "output_type": "execute_result"
    }
   ],
   "source": [
    "5>4"
   ]
  },
  {
   "cell_type": "code",
   "execution_count": 7,
   "id": "372478ec",
   "metadata": {},
   "outputs": [],
   "source": [
    "# asign 3 to a\n",
    "a = 3"
   ]
  },
  {
   "cell_type": "code",
   "execution_count": 9,
   "id": "66127f5e",
   "metadata": {},
   "outputs": [
    {
     "data": {
      "text/plain": [
       "False"
      ]
     },
     "execution_count": 9,
     "metadata": {},
     "output_type": "execute_result"
    }
   ],
   "source": [
    "# ask if a is equal to 4\n",
    "\n",
    "a == 6"
   ]
  },
  {
   "cell_type": "markdown",
   "id": "41f3508a",
   "metadata": {},
   "source": [
    "Boolean expressions are constructed using comparison operators listed here.\n",
    "\n",
    "Take note that = is an assignment operator while == is a comparison operator."
   ]
  },
  {
   "cell_type": "code",
   "execution_count": 11,
   "id": "f95f91da",
   "metadata": {},
   "outputs": [],
   "source": [
    "init_pressure = 4000      # assignment statement\n",
    "bubble_pressure = 2800    # assignment statement\n"
   ]
  },
  {
   "cell_type": "code",
   "execution_count": 12,
   "id": "a9fdf048",
   "metadata": {},
   "outputs": [
    {
     "data": {
      "text/plain": [
       "False"
      ]
     },
     "execution_count": 12,
     "metadata": {},
     "output_type": "execute_result"
    }
   ],
   "source": [
    "init_pressure == bubble_pressure # a == b asks: is a equal to b?"
   ]
  },
  {
   "cell_type": "code",
   "execution_count": 14,
   "id": "202ed12e",
   "metadata": {},
   "outputs": [
    {
     "data": {
      "text/plain": [
       "True"
      ]
     },
     "execution_count": 14,
     "metadata": {},
     "output_type": "execute_result"
    }
   ],
   "source": [
    "init_pressure != bubble_pressure   # a != b asks: is a not equal to b?"
   ]
  },
  {
   "cell_type": "code",
   "execution_count": 17,
   "id": "e49b2a0c",
   "metadata": {},
   "outputs": [
    {
     "data": {
      "text/plain": [
       "True"
      ]
     },
     "execution_count": 17,
     "metadata": {},
     "output_type": "execute_result"
    }
   ],
   "source": [
    "init_pressure > bubble_pressure  # a > b asks: is a greater than b?"
   ]
  },
  {
   "cell_type": "code",
   "execution_count": 15,
   "id": "1c11e770",
   "metadata": {},
   "outputs": [
    {
     "data": {
      "text/plain": [
       "False"
      ]
     },
     "execution_count": 15,
     "metadata": {},
     "output_type": "execute_result"
    }
   ],
   "source": [
    "init_pressure < bubble_pressure  # a < b asks: is a less than b?"
   ]
  },
  {
   "cell_type": "code",
   "execution_count": 16,
   "id": "be604521",
   "metadata": {},
   "outputs": [
    {
     "data": {
      "text/plain": [
       "False"
      ]
     },
     "execution_count": 16,
     "metadata": {},
     "output_type": "execute_result"
    }
   ],
   "source": [
    "init_pressure >= 4200  # a >= b asks: is a at least up to the value of b?"
   ]
  },
  {
   "cell_type": "code",
   "execution_count": 17,
   "id": "430d10cb",
   "metadata": {},
   "outputs": [
    {
     "data": {
      "text/plain": [
       "True"
      ]
     },
     "execution_count": 17,
     "metadata": {},
     "output_type": "execute_result"
    }
   ],
   "source": [
    "init_pressure <= 4200  # a >= b asks: is a at most up to the value of b?"
   ]
  },
  {
   "cell_type": "code",
   "execution_count": 8,
   "id": "07ebd502",
   "metadata": {},
   "outputs": [
    {
     "data": {
      "text/plain": [
       "False"
      ]
     },
     "execution_count": 8,
     "metadata": {},
     "output_type": "execute_result"
    }
   ],
   "source": [
    "init_pressure is bubble_pressure  # same as =="
   ]
  },
  {
   "cell_type": "code",
   "execution_count": 9,
   "id": "4d14468b",
   "metadata": {},
   "outputs": [
    {
     "data": {
      "text/plain": [
       "True"
      ]
     },
     "execution_count": 9,
     "metadata": {},
     "output_type": "execute_result"
    }
   ],
   "source": [
    "init_pressure is not bubble_pressure  # same as !="
   ]
  },
  {
   "cell_type": "markdown",
   "id": "ae706b46",
   "metadata": {},
   "source": [
    "### Logical Operators"
   ]
  },
  {
   "cell_type": "markdown",
   "id": "5e7dd1f5",
   "metadata": {},
   "source": [
    "Sometimes, multiple conditions needed to be  checked in a conditional statement.\n",
    "\n",
    "Logical operators are used to combine Boolean expressions.\n",
    "\n",
    "+ Operator **and** returns True if all conditions are true, otherwise, False is returned.\n",
    "\n",
    "+ Operator **or** returns True if at least one of the conditions is true, otherwise, False is returned.\n",
    "\n",
    "Logical operators are also used to negate Boolean expressions\n",
    "\n",
    "+ Operator **not** returns True for a false condition and vice-versa"
   ]
  },
  {
   "cell_type": "code",
   "execution_count": 22,
   "id": "51626e8c",
   "metadata": {},
   "outputs": [
    {
     "data": {
      "text/plain": [
       "True"
      ]
     },
     "execution_count": 22,
     "metadata": {},
     "output_type": "execute_result"
    }
   ],
   "source": [
    "2<3 and 7>5     #True and True"
   ]
  },
  {
   "cell_type": "code",
   "execution_count": 18,
   "id": "032db5ba",
   "metadata": {},
   "outputs": [
    {
     "data": {
      "text/plain": [
       "False"
      ]
     },
     "execution_count": 18,
     "metadata": {},
     "output_type": "execute_result"
    }
   ],
   "source": [
    "2<3 and 7<5      #True and False"
   ]
  },
  {
   "cell_type": "code",
   "execution_count": 20,
   "id": "787c1a55",
   "metadata": {},
   "outputs": [
    {
     "data": {
      "text/plain": [
       "True"
      ]
     },
     "execution_count": 20,
     "metadata": {},
     "output_type": "execute_result"
    }
   ],
   "source": [
    "2<3 or 7<5     # True or False"
   ]
  },
  {
   "cell_type": "code",
   "execution_count": 21,
   "id": "a6c55d5c",
   "metadata": {},
   "outputs": [
    {
     "data": {
      "text/plain": [
       "False"
      ]
     },
     "execution_count": 21,
     "metadata": {},
     "output_type": "execute_result"
    }
   ],
   "source": [
    "2>3 or 7<5     # False of False"
   ]
  },
  {
   "cell_type": "code",
   "execution_count": 13,
   "id": "0519c75b",
   "metadata": {},
   "outputs": [
    {
     "data": {
      "text/plain": [
       "False"
      ]
     },
     "execution_count": 13,
     "metadata": {},
     "output_type": "execute_result"
    }
   ],
   "source": [
    "not(7>5)"
   ]
  },
  {
   "cell_type": "markdown",
   "id": "64894df7",
   "metadata": {},
   "source": [
    "### Conditional Structures"
   ]
  },
  {
   "cell_type": "markdown",
   "id": "a41e97b0",
   "metadata": {},
   "source": [
    "#### Conditional Execution"
   ]
  },
  {
   "cell_type": "markdown",
   "id": "104f3477",
   "metadata": {},
   "source": [
    "**if...** statements"
   ]
  },
  {
   "attachments": {
    "image.png": {
     "image/png": "[encoded data removed]"
    }
   },
   "cell_type": "markdown",
   "id": "88a8b52e",
   "metadata": {},
   "source": [
    "![image.png](attachment:image.png)"
   ]
  },
  {
   "cell_type": "code",
   "execution_count": 24,
   "id": "e627205e",
   "metadata": {},
   "outputs": [
    {
     "name": "stdout",
     "output_type": "stream",
     "text": [
      "What is the value of x?\n",
      "-2\n",
      "end of game\n"
     ]
    }
   ],
   "source": [
    "x = input('What is the value of x?\\n')\n",
    "x = float(x)\n",
    "\n",
    "if x>0:   # Header of the structure: format: keyword if, condition(s), colon\n",
    "    print('x is positive')      # the body\n",
    "    print('Congratulations')    # the body\n",
    "    \n",
    "print('end of game')"
   ]
  },
  {
   "cell_type": "code",
   "execution_count": 2,
   "id": "e3de0466",
   "metadata": {},
   "outputs": [
    {
     "data": {
      "text/plain": [
       "str"
      ]
     },
     "execution_count": 2,
     "metadata": {},
     "output_type": "execute_result"
    }
   ],
   "source": [
    "type(x)"
   ]
  },
  {
   "cell_type": "markdown",
   "id": "220cd73e",
   "metadata": {},
   "source": [
    "**if...** statements evaluates the given **condition** (to **True** or **False**); performs the given statement(s) if condition is True and skips the given statement(s) if condition is False.\n",
    "\n",
    "The condition(s) is written after the **if** keyword and ended with a colon i.e. **:**\n",
    "\n",
    "The statements to be performed or skipped are written as an indented block in subsequent line(s).\n",
    "\n",
    "Remove the indentation in lines after the _if_ block."
   ]
  },
  {
   "cell_type": "code",
   "execution_count": 26,
   "id": "b4637301",
   "metadata": {},
   "outputs": [
    {
     "name": "stdout",
     "output_type": "stream",
     "text": [
      "Good permeability\n",
      "Goodluck\n"
     ]
    }
   ],
   "source": [
    "perm = 67\n",
    "\n",
    "if perm > 50:\n",
    "    print('Good permeability')\n",
    "\n",
    "print('Goodluck')"
   ]
  },
  {
   "cell_type": "markdown",
   "id": "ae504382",
   "metadata": {},
   "source": [
    "**Petroleum Engineering Example**\n",
    "\n",
    "Sutton developed a correlation for estimating for estimating $P_{pc}$ and $T_{pc}$ as functions of gas gravity.\n",
    "\n",
    "Here is the first step in Sutton’s procedure:\n",
    "\n",
    "+ However, if gas mixture contains $>12mol\\%$ of $CO_{2}$ OR $>3mol\\%$ of Nitrogen OR $>0mol\\%$ of $H_{2}S$, then the parameter $\\gamma_h$ is determined thus:\n",
    "\n",
    "$$\\gamma_h = \\frac{\\gamma_w - 1.1767y_{H_{2}S}-1.5196y_{CO_{2}}-0.9672y_{N_{2}}-0.622y_{H_{2}O}}{1-y_{H_{2}S}-y_{CO_{2}}-y_{N_{2}}-y_{H_{2}O}}$$\n",
    "\n",
    "\n",
    "+ If the gas mixture contains $<12mol\\%$ of $CO_{2}$ AND $<3mol\\%$ of Nitrogen AND no $H_{2}S$, then the parameter $\\gamma_h$ takes the same value as the given gas gravity, $\\gamma_w$; no need for correction."
   ]
  },
  {
   "cell_type": "markdown",
   "id": "983517a0",
   "metadata": {},
   "source": [
    "The first step in Sutton’s can be executed with an **if …** statement.\n",
    "\n",
    "Observe that the procedure implies that **if any** of the impurities in the gas exceeds the stated threshold value, then, the given gas gravity $\\gamma_w$ need to be corrected for the effects of the impurities, using the given equation.\n",
    "\n",
    "However, the correction task should be neglected **if none** of the impurities exceeds its threshold value.\n",
    "\n",
    "To execute this procedure, we simply construct a Boolean condition to test if any threshold is violated.\n",
    "\n",
    "If the condition is evaluated as True, then a block of statement to perform the gas gravity correction is executed.\n",
    "\n",
    "If the condition is evaluated to be False, there is no need for the correction, hence, the block of statement is skipped."
   ]
  },
  {
   "cell_type": "code",
   "execution_count": 28,
   "id": "37fcb5ff",
   "metadata": {},
   "outputs": [
    {
     "name": "stdout",
     "output_type": "stream",
     "text": [
      "What is the CO2 composition?0.01\n",
      "What is the n2 composition?0.012\n",
      "What is the h2s composition?0\n",
      "What is the h2o composition?0.1\n",
      "What is the measured gas gravity?0.76\n",
      "The hydrocarbon pseudo-critical pressure is 655.16 psia\n",
      "The hydrocarbon pseudo-critical temperature is 655.16 deg Rankine\n"
     ]
    }
   ],
   "source": [
    "#...TTOWG!\n",
    "\n",
    "# input statements\n",
    "co2_comp = input('What is the CO2 composition?')\n",
    "n2_comp = input('What is the n2 composition?')\n",
    "h2s_comp = input('What is the h2s composition?')\n",
    "h2o_comp = input('What is the h2o composition?')\n",
    "gas_gravity = input('What is the measured gas gravity?')\n",
    "\n",
    " # convert inputs to numerals\n",
    "co2_comp = float(co2_comp)\n",
    "n2_comp = float(n2_comp)\n",
    "h2s_comp = float(h2s_comp)\n",
    "h2o_comp = float(h2o_comp)\n",
    "gas_gravity = float(gas_gravity)\n",
    "\n",
    "# the if statement\n",
    "\n",
    "if co2_comp > 0.12 or n2_comp > 0.03 or h2s_comp > 0:\n",
    "    # numerator of the equation\n",
    "    numerator = gas_gravity - (1.1767*h2s_comp) - (1.5196*co2_comp)- (0.9672*n2_comp)- (0.622*h2o_comp)\n",
    "    \n",
    "    # denominator of the equation\n",
    "    denominator = 1- h2s_comp - co2_comp - n2_comp - h2o_comp\n",
    "    \n",
    "    # putting it altogether\n",
    "    gas_gravity = numerator/denominator\n",
    "    \n",
    "    # output the corrected gas gravity value\n",
    "    print('The corrected gas gravity is', gas_gravity)\n",
    "    \n",
    "\n",
    "# continuing after the if block: other parts of the Sutton correlation\n",
    "\n",
    "# computing pseudo-critical pressure and temperature of the hydrocarbon mixture\n",
    "\n",
    "p_pch = 756.8 - (131*gas_gravity) - (3.6*gas_gravity**2)\n",
    "t_pch = 169.2 + (349.5*gas_gravity) - (74.0*gas_gravity**2)\n",
    "\n",
    "# displaying the results.\n",
    "print('The hydrocarbon pseudo-critical pressure is {0:.2f} psia'.format(p_pch))\n",
    "print('The hydrocarbon pseudo-critical temperature is {0:.2f} deg Rankine'.format(t_pch))"
   ]
  },
  {
   "cell_type": "markdown",
   "id": "fa8dc8cc",
   "metadata": {},
   "source": [
    "#### Alternative Execution"
   ]
  },
  {
   "cell_type": "markdown",
   "id": "23548635",
   "metadata": {},
   "source": [
    "The **if…then…else** structure is deployed when there are two alternative tasks and a condition that determines which of the two alternatives should be executed.\n",
    "\n",
    "Essentially, there will be a Boolean condition, and two indented blocks (branches) of statements.\n",
    "\n",
    "The first branch (after the condition) is to be executed if the condition evaluates to True while the second branch (after the keyword ‘else’) is executed if the condition evaluates to False."
   ]
  },
  {
   "attachments": {
    "image-2.png": {
     "image/png": "[encoded data removed]"
    }
   },
   "cell_type": "markdown",
   "id": "da6ab694",
   "metadata": {},
   "source": [
    "![image-2.png](attachment:image-2.png)"
   ]
  },
  {
   "cell_type": "code",
   "execution_count": 8,
   "id": "88645711",
   "metadata": {},
   "outputs": [
    {
     "name": "stdout",
     "output_type": "stream",
     "text": [
      "What is the value of y?\n",
      "20\n",
      "y is an even number\n",
      "then divide y by 2\n",
      "End of game\n"
     ]
    }
   ],
   "source": [
    "y = input('What is the value of y?\\n')\n",
    "y = float(y)\n",
    "\n",
    "if y%2 == 0:      #asking if y is an even number\n",
    "    print('y is an even number')\n",
    "    print('then divide y by 2')\n",
    "else:\n",
    "    print('y is an odd number')\n",
    "    print('I am sorry')\n",
    "\n",
    "print('End of game')\n",
    "\n",
    "    "
   ]
  },
  {
   "cell_type": "code",
   "execution_count": 30,
   "id": "46be89ce",
   "metadata": {},
   "outputs": [
    {
     "data": {
      "text/plain": [
       "3"
      ]
     },
     "execution_count": 30,
     "metadata": {},
     "output_type": "execute_result"
    }
   ],
   "source": [
    "18%5"
   ]
  },
  {
   "cell_type": "markdown",
   "id": "bf7c36f4",
   "metadata": {},
   "source": [
    "The condition(s) is written after the if keyword and ended with a colon i.e. (:)\n",
    "\n",
    "Then, the statement(s) to be performed if condition is True (i.e., Branch True) are written as an indented block in subsequent line(s).\n",
    "\n",
    "Thereafter, the keyword ‘else’ is written on the next line just after the Branch True. The ‘else’ keyword should be indented to the same level as the ‘if’ keyword.\n",
    "\n",
    "Finally, the statement(s) to be performed if condition is False (i.e., Branch False) are written as an indented block in subsequent line(s)."
   ]
  },
  {
   "cell_type": "code",
   "execution_count": null,
   "id": "b18b759a",
   "metadata": {},
   "outputs": [],
   "source": [
    "perm = input('What is the value of permeability')\n",
    "perm = float(perm)\n",
    "\n",
    "if perm > 50:\n",
    "    print('Active gridblock')\n",
    "else:\n",
    "    print('Inactive gridblock')"
   ]
  },
  {
   "cell_type": "markdown",
   "id": "abc4bb63",
   "metadata": {},
   "source": [
    "**Petroleum Engineering Application: Computing Oil Formation Volume Factor $B_o$**\n",
    "\n",
    "The variation of oil formation volume factor, $B_o$,  with pressure is divided into two pressure regimes, as shown.\n",
    "\n"
   ]
  },
  {
   "attachments": {
    "image.png": {
     "image/png": "[encoded data removed]"
    }
   },
   "cell_type": "markdown",
   "id": "4467bce5",
   "metadata": {},
   "source": [
    "![image.png](attachment:image.png)"
   ]
  },
  {
   "cell_type": "markdown",
   "id": "5c4d1023",
   "metadata": {},
   "source": [
    "For pressures below or equal to bubble point, Standing’s correlation for calculating Bo is herein presented:\n",
    "\n",
    "$$𝐵_𝑜=0.9759+0.00012𝐹^{1.2}$$\n",
    "\n",
    " 𝑊ℎ𝑒𝑟𝑒 \n",
    " \n",
    " $$𝐹= 𝑅_𝑠 (\\frac{\\gamma_g}{\\gamma_o})^{0.5}+1.25T_F$$\n",
    "\n",
    "Note: TF is temperature in degree Fahrenheit."
   ]
  },
  {
   "cell_type": "markdown",
   "id": "4f2ad9af",
   "metadata": {},
   "source": [
    "For pressure above bubble point, the analytical equation for computing Bo is given as:\n",
    " \n",
    "$$𝐵_𝑜= 𝐵_{ob} 𝑒^{[c_o (P_b−P)]}$$\n",
    "\n",
    "$B_{ob}$ is the $B_o$ at bubble point and can be computed using the equations above.\n"
   ]
  },
  {
   "cell_type": "markdown",
   "id": "07c0897b",
   "metadata": {},
   "source": [
    "To execute this procedure, we simply construct a  Boolean condition to test if the current reservoir pressure, p, is greater than the bubble-point pressure of the reservoir.\n",
    "\n",
    "If the condition is evaluated as True, then a block of statement to implement Equation 2.37 is executed.\n",
    "\n",
    "Else, if the condition is evaluated to be False, then a block of statement to implement Equation 2.35 is executed.\n",
    "\n",
    "Note that Equation 2.36 need to be implemented for either of the alternatives, hence, the line to execute it is written before the if…then…else statement.\n"
   ]
  },
  {
   "cell_type": "code",
   "execution_count": null,
   "id": "c87fbef4",
   "metadata": {},
   "outputs": [],
   "source": [
    "#...TTOWG!\n",
    "\n",
    "# input statements\n",
    "gas_gravity = float(input('What is the value of gas gravity?'))\n",
    "oil_gravity = float(input('What is the value of oil gravity?'))\n",
    "tf = float(input('What is the value of reservoir temperature in Fahrenheit?'))\n",
    "p = float(input('What is the value of current reservoir pressure?'))\n",
    "rs = float(input('What is the value of solution gas-oil ratio at current reservoir pressure?'))\n",
    "pb = float(input('What is the value of reservoir bubble point pressure?'))\n",
    "\n",
    "\n",
    "# importing needed library\n",
    "import math     # to make the function exp available\n",
    "\n",
    "# calculating F parameter\n",
    "F = (rs*((gas_gravity/oil_gravity)**0.5))+(1.25*tf)\n",
    " \n",
    "# the if-then-else statement\n",
    "\n",
    "if p > pb:\n",
    "    co = float(input('What is the value of oil compressibility?'))\n",
    "    bob = 0.9759+(0.00012*(F**1.2)) # assuming gas_gravity and oil_gravity are constant for all pressures above pb\n",
    "    bo = bob*(math.exp(co*(pb-p)))\n",
    "else:\n",
    "    bo = 0.9759+(0.00012*(F**1.2))\n",
    "\n",
    "# continuing after the if block\n",
    "# displaying the results.\n",
    "print('The oil formation volume factor at {0:.2f} is {1:.2f} RB/STB'.format(p, bo))"
   ]
  }
 ],
 "metadata": {
  "kernelspec": {
   "display_name": "Python 3 (ipykernel)",
   "language": "python",
   "name": "python3"
  },
  "language_info": {
   "codemirror_mode": {
    "name": "ipython",
    "version": 3
   },
   "file_extension": ".py",
   "mimetype": "text/x-python",
   "name": "python",
   "nbconvert_exporter": "python",
   "pygments_lexer": "ipython3",
   "version": "3.9.12"
  }
 },
 "nbformat": 4,
 "nbformat_minor": 5
}
