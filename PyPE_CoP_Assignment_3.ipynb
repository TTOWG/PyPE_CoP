{
 "cells": [
  {
   "cell_type": "markdown",
   "id": "a3304846",
   "metadata": {},
   "source": [
    "### PyPE_CoP Assignment 3"
   ]
  },
  {
   "cell_type": "markdown",
   "id": "5711859f",
   "metadata": {},
   "source": [
    "Follow the following instructions to develop a simple Python script to compute the amount of stock-tank oil initially in-place in a reservoir, according to the following equation."
   ]
  },
  {
   "cell_type": "markdown",
   "id": "84986701",
   "metadata": {},
   "source": [
    "$$N = \\frac{7758Ah\\phi(1-swi)}{B_{oi}}$$"
   ]
  },
  {
   "cell_type": "markdown",
   "id": "fc20eb90",
   "metadata": {},
   "source": [
    "Your script should allow the users can choose between any of the following modes:\n",
    "\n",
    "- Mode 1: Supply the value of **Area** (i.e. $A$) directly, in acre units.\n",
    "- Mode 2: Supply the value of reservoir dimensions, $L_x$ and $L_y$, in ft units.\n",
    "\n",
    "For Mode 2, your script would have to internally compute **Area** as $A = \\frac{L_xL_y}{43560}$"
   ]
  },
  {
   "cell_type": "markdown",
   "id": "fffeddab",
   "metadata": {},
   "source": [
    "**Step 1**: Insert a code cell below to request all the needed values, except **Area**."
   ]
  },
  {
   "cell_type": "markdown",
   "id": "eabfe1cd",
   "metadata": {},
   "source": [
    "**Step 2**: Insert a code cell below to ask the user their preferred mode. Write line(s) to execute one of the following, depending on the user's response:\n",
    "- request the value of **Area**,\n",
    "- request the values of dimensions $L_x$ and $L_y$, and compute the **Area**."
   ]
  },
  {
   "cell_type": "markdown",
   "id": "d56e7643",
   "metadata": {},
   "source": [
    "**Step 3**: Proceed with the rest of the computation (as in Assignment 1)."
   ]
  },
  {
   "cell_type": "code",
   "execution_count": null,
   "id": "bbbd4612",
   "metadata": {},
   "outputs": [],
   "source": []
  }
 ],
 "metadata": {
  "kernelspec": {
   "display_name": "Python 3 (ipykernel)",
   "language": "python",
   "name": "python3"
  },
  "language_info": {
   "codemirror_mode": {
    "name": "ipython",
    "version": 3
   },
   "file_extension": ".py",
   "mimetype": "text/x-python",
   "name": "python",
   "nbconvert_exporter": "python",
   "pygments_lexer": "ipython3",
   "version": "3.9.12"
  }
 },
 "nbformat": 4,
 "nbformat_minor": 5
}
