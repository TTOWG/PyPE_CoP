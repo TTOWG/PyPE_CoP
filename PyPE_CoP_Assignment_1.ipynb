{
 "cells": [
  {
   "cell_type": "markdown",
   "id": "3c3b4037",
   "metadata": {},
   "source": [
    "### PyPE_CoP Assignment 1"
   ]
  },
  {
   "cell_type": "markdown",
   "id": "0f540906",
   "metadata": {},
   "source": [
    "Follow the following instructions to develop a simple Python script to compute the amount of stock-tank oil initially in-place in a reservoir, according to the following equation."
   ]
  },
  {
   "cell_type": "markdown",
   "id": "6fe49496",
   "metadata": {},
   "source": [
    "$$N = \\frac{7758Ah\\phi(1-swi)}{B_{oi}}$$"
   ]
  },
  {
   "cell_type": "markdown",
   "id": "ce163819",
   "metadata": {},
   "source": [
    "**Step 1**: Insert a code cell below and create the following variables with the values indicated:\n",
    "\n",
    "+ area, 40 acres\n",
    "+ thickness, 15 ft\n",
    "+ poro, 0.23\n",
    "+ swi, 0.28\n",
    "+ fvf, 1.205"
   ]
  },
  {
   "cell_type": "markdown",
   "id": "bdfde602",
   "metadata": {},
   "source": [
    "**Step 2**: Insert a code cell below and write a Python expression corresponding to the RHS of the equation above. Use * for multiplication, - for subtraction, and / for division. Assign the result of that expression to a variable named _stoiip_. Finally, ask Python to display the value stored in _stoiip_. "
   ]
  },
  {
   "cell_type": "markdown",
   "id": "086a18d0",
   "metadata": {},
   "source": [
    "**Step 3**: Insert a text cell below and write a 1-sentence report of the computed STOIIP. Something like: \"The amount of stock-tank oil in-place in the reservoir is xxx STB\"."
   ]
  },
  {
   "cell_type": "code",
   "execution_count": null,
   "id": "c91a4bbe",
   "metadata": {},
   "outputs": [],
   "source": []
  }
 ],
 "metadata": {
  "kernelspec": {
   "display_name": "Python 3 (ipykernel)",
   "language": "python",
   "name": "python3"
  },
  "language_info": {
   "codemirror_mode": {
    "name": "ipython",
    "version": 3
   },
   "file_extension": ".py",
   "mimetype": "text/x-python",
   "name": "python",
   "nbconvert_exporter": "python",
   "pygments_lexer": "ipython3",
   "version": "3.9.12"
  }
 },
 "nbformat": 4,
 "nbformat_minor": 5
}
