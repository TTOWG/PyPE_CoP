{
 "cells": [
  {
   "cell_type": "markdown",
   "id": "f3861173",
   "metadata": {},
   "source": [
    "### PyPE_CoP Assignment 2"
   ]
  },
  {
   "cell_type": "markdown",
   "id": "27c8ae73",
   "metadata": {},
   "source": [
    "Develop a simple Python script to compute rate of fluid flow through a core sample, using Darcy equation as shown below:"
   ]
  },
  {
   "cell_type": "markdown",
   "id": "c3c7bb57",
   "metadata": {},
   "source": [
    "$$q = \\frac{KA(P_{in}-P_{out})}{\\mu L}$$"
   ]
  },
  {
   "cell_type": "markdown",
   "id": "6b75646a",
   "metadata": {},
   "source": [
    "Ensure that your script could request values of the parameters required for the computation. Additionally, the script should be able to communicate the value of the computed rate in a coherent sentence."
   ]
  },
  {
   "cell_type": "code",
   "execution_count": null,
   "id": "8fa5163f",
   "metadata": {},
   "outputs": [],
   "source": []
  }
 ],
 "metadata": {
  "kernelspec": {
   "display_name": "Python 3 (ipykernel)",
   "language": "python",
   "name": "python3"
  },
  "language_info": {
   "codemirror_mode": {
    "name": "ipython",
    "version": 3
   },
   "file_extension": ".py",
   "mimetype": "text/x-python",
   "name": "python",
   "nbconvert_exporter": "python",
   "pygments_lexer": "ipython3",
   "version": "3.9.12"
  }
 },
 "nbformat": 4,
 "nbformat_minor": 5
}
