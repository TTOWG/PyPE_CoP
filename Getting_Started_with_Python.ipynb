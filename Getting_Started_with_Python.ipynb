{
 "cells": [
  {
   "cell_type": "markdown",
   "id": "2b05b6a3",
   "metadata": {},
   "source": [
    "... to the only wise God - TTOWG"
   ]
  },
  {
   "cell_type": "markdown",
   "id": "ce54c558",
   "metadata": {},
   "source": [
    "# Getting Started with Pyhton"
   ]
  },
  {
   "cell_type": "markdown",
   "id": "defdc18a",
   "metadata": {},
   "source": [
    "## Basic Python Objects"
   ]
  },
  {
   "cell_type": "markdown",
   "id": "13c8c969",
   "metadata": {},
   "source": [
    "Crudely speaking, Python objects are stuffs upon which actions (specified in python commands) are performed. \n",
    "\n",
    "Example: in the code cells below, 3, 4, j, k, 7, mantra, ‘TTOWG’ are all objects acted upon."
   ]
  },
  {
   "cell_type": "code",
   "execution_count": 1,
   "id": "63205740",
   "metadata": {},
   "outputs": [
    {
     "data": {
      "text/plain": [
       "12"
      ]
     },
     "execution_count": 1,
     "metadata": {},
     "output_type": "execute_result"
    }
   ],
   "source": [
    "3*4"
   ]
  },
  {
   "cell_type": "code",
   "execution_count": 2,
   "id": "7c3ae91b",
   "metadata": {},
   "outputs": [],
   "source": [
    "j = 12\n",
    "k = j+7"
   ]
  },
  {
   "cell_type": "code",
   "execution_count": 3,
   "id": "ebd50f09",
   "metadata": {},
   "outputs": [
    {
     "name": "stdout",
     "output_type": "stream",
     "text": [
      "TTOWG\n"
     ]
    }
   ],
   "source": [
    "mantra = 'TTOWG'\n",
    "print(mantra)"
   ]
  },
  {
   "cell_type": "markdown",
   "id": "65d543b9",
   "metadata": {},
   "source": [
    "The basic Python objects considered here are **Values**, **Variables** and **Keywords**.\n",
    "\n",
    "Later, some sets of sophisticated objects known as data structure shall be considered!"
   ]
  },
  {
   "cell_type": "markdown",
   "id": "c50d47cc",
   "metadata": {},
   "source": [
    "### Values"
   ]
  },
  {
   "cell_type": "markdown",
   "id": "2ad14f83",
   "metadata": {},
   "source": [
    "**Values** are simply the representation of data entities.\n",
    "\n",
    "**Types of Values**\n",
    "Values in Python belong to various types such as **type integer**, **type float**, and **type string**.\n",
    "\n",
    "Use the Function *type* to find out the type to which a value belong."
   ]
  },
  {
   "cell_type": "code",
   "execution_count": 4,
   "id": "59ade840",
   "metadata": {},
   "outputs": [
    {
     "data": {
      "text/plain": [
       "int"
      ]
     },
     "execution_count": 4,
     "metadata": {},
     "output_type": "execute_result"
    }
   ],
   "source": [
    "type(2)"
   ]
  },
  {
   "cell_type": "markdown",
   "id": "ab9124e2",
   "metadata": {},
   "source": [
    "Any numeric value with floating decimal point is stored as a float type."
   ]
  },
  {
   "cell_type": "code",
   "execution_count": 5,
   "id": "04ab704a",
   "metadata": {},
   "outputs": [
    {
     "data": {
      "text/plain": [
       "float"
      ]
     },
     "execution_count": 5,
     "metadata": {},
     "output_type": "execute_result"
    }
   ],
   "source": [
    "type(2.0)"
   ]
  },
  {
   "cell_type": "markdown",
   "id": "9b4998dd",
   "metadata": {},
   "source": [
    "Any value (alphanumeric or special characters) enclosed in quotes is stored as a string (str)."
   ]
  },
  {
   "cell_type": "code",
   "execution_count": 6,
   "id": "56e4108b",
   "metadata": {},
   "outputs": [
    {
     "data": {
      "text/plain": [
       "str"
      ]
     },
     "execution_count": 6,
     "metadata": {},
     "output_type": "execute_result"
    }
   ],
   "source": [
    "type('2')"
   ]
  },
  {
   "cell_type": "code",
   "execution_count": 7,
   "id": "38f39b54",
   "metadata": {},
   "outputs": [
    {
     "data": {
      "text/plain": [
       "str"
      ]
     },
     "execution_count": 7,
     "metadata": {},
     "output_type": "execute_result"
    }
   ],
   "source": [
    "type('TTOWG')"
   ]
  },
  {
   "cell_type": "code",
   "execution_count": 17,
   "id": "d345e214",
   "metadata": {},
   "outputs": [],
   "source": [
    "my_mail = 'olu645online@gmail.com'"
   ]
  },
  {
   "cell_type": "code",
   "execution_count": 19,
   "id": "b2e8e6ed",
   "metadata": {},
   "outputs": [
    {
     "name": "stdout",
     "output_type": "stream",
     "text": [
      "Oyo\n"
     ]
    }
   ],
   "source": [
    "state_origin = 'Oyo'\n",
    "\n",
    "print(state_origin)"
   ]
  },
  {
   "cell_type": "markdown",
   "id": "8a6e0f3a",
   "metadata": {},
   "source": [
    "### Variables"
   ]
  },
  {
   "cell_type": "markdown",
   "id": "ae248451",
   "metadata": {},
   "source": [
    "A variable is a value stored in memory and referred to with a chosen name.\n",
    "\n",
    "In other words, values are assigned to variables.\n",
    "\n",
    "When the name of a variable is called, the value assigned therein answers."
   ]
  },
  {
   "cell_type": "markdown",
   "id": "82095135",
   "metadata": {},
   "source": [
    "A raw value can be assigned to a variable.\n",
    "\n",
    "Example: $j$ is a variable; the value $12$ is assigned to it."
   ]
  },
  {
   "cell_type": "code",
   "execution_count": 20,
   "id": "e2baaf93",
   "metadata": {},
   "outputs": [],
   "source": [
    "j = 12"
   ]
  },
  {
   "cell_type": "markdown",
   "id": "92f234b8",
   "metadata": {},
   "source": [
    "Also, the output of an expression (involving a variable or not) may be stored in a variable.\n",
    "\n",
    "Example: $k$ is a variable, the value obtained when $j+7$ is executed is subsequently assigned to variable $k$."
   ]
  },
  {
   "cell_type": "code",
   "execution_count": 21,
   "id": "041a7277",
   "metadata": {},
   "outputs": [
    {
     "name": "stdout",
     "output_type": "stream",
     "text": [
      "19\n"
     ]
    }
   ],
   "source": [
    "k = j + 7\n",
    "\n",
    "print(k)"
   ]
  },
  {
   "cell_type": "markdown",
   "id": "5b572167",
   "metadata": {},
   "source": [
    "Not only numeric values are assigned to variables, strings are also assigned.\n",
    "\n",
    "Example, $mantra$ is a variable with string ‘TTOWG!’ assigned to it."
   ]
  },
  {
   "cell_type": "code",
   "execution_count": 10,
   "id": "0675444d",
   "metadata": {},
   "outputs": [],
   "source": [
    "mantra = 'TTOWG!'"
   ]
  },
  {
   "cell_type": "markdown",
   "id": "d418f9b6",
   "metadata": {},
   "source": [
    "**Choosing Variable Names**\n",
    "\n",
    "In naming variable, the following rules are recommended:\n",
    "\n",
    "+ Variable names should be descriptive, as much as possible. That is, the name should somewhat tell us something about the variable. Example: a variable to hold the value of reservoir permeability is better named ‘perm’ than named ‘x’\n",
    "+ The name must be a single word. Where multiple words are necessary for descriptive purposes, they can be joined with the underscore character; e. g.: init_pressure.\n",
    "+ Names should not be too long.\n",
    "+ Names may contain both alphabets and numbers; but must not start with numbers.\n",
    "+ Names are case sensitive. If you named a variable as ‘poro’, do not refer to it as ‘Poro’.\n",
    "+ Avoid using special characters like ‘@’, in names."
   ]
  },
  {
   "cell_type": "markdown",
   "id": "75eb9592",
   "metadata": {},
   "source": [
    "### Keywords"
   ]
  },
  {
   "attachments": {
    "image-3.png": {
     "image/png": "[encoded data removed]"
    }
   },
   "cell_type": "markdown",
   "id": "c260df7e",
   "metadata": {},
   "source": [
    "Keywords are words that are reserved for Python’s in-built structure.\n",
    "\n",
    "Keywords cannot be used as variable names; doing so would cause error.\n",
    "\n",
    "Here is the list of Python’s keywords.\n",
    "\n",
    "![image-3.png](attachment:image-3.png)"
   ]
  },
  {
   "cell_type": "code",
   "execution_count": 22,
   "id": "da94535a",
   "metadata": {},
   "outputs": [
    {
     "ename": "SyntaxError",
     "evalue": "invalid syntax (3593895086.py, line 1)",
     "output_type": "error",
     "traceback": [
      "\u001b[1;36m  Input \u001b[1;32mIn [22]\u001b[1;36m\u001b[0m\n\u001b[1;33m    for = 78\u001b[0m\n\u001b[1;37m        ^\u001b[0m\n\u001b[1;31mSyntaxError\u001b[0m\u001b[1;31m:\u001b[0m invalid syntax\n"
     ]
    }
   ],
   "source": [
    "for = 78"
   ]
  },
  {
   "cell_type": "markdown",
   "id": "b2ba84a7",
   "metadata": {},
   "source": [
    "### Statements"
   ]
  },
  {
   "cell_type": "markdown",
   "id": "c2f2a924",
   "metadata": {},
   "source": [
    "A statement is simply unit of code (commands) that is interpretable and executable by Python; just like a sentence in natural language.\n",
    "\n",
    "Four (4) common types of Python statements are Assignment statements, Expressions, Input statement and Output statement."
   ]
  },
  {
   "cell_type": "markdown",
   "id": "6f87ff0d",
   "metadata": {},
   "source": [
    "**Assignment statements:**\n",
    "\n",
    "Assignment statements simply assigns values to a variable."
   ]
  },
  {
   "cell_type": "code",
   "execution_count": 23,
   "id": "b3289cbe",
   "metadata": {},
   "outputs": [
    {
     "name": "stdout",
     "output_type": "stream",
     "text": [
      "0.28\n"
     ]
    }
   ],
   "source": [
    "poro = 0.27 # assignment statement\n",
    "\n",
    "area = 40  # assignment statement\n",
    "\n",
    "thickness = 15 # assignment statements\n",
    "\n",
    "swi = 0.28\n",
    "\n",
    "print(swi)"
   ]
  },
  {
   "cell_type": "markdown",
   "id": "6e73ad44",
   "metadata": {},
   "source": [
    "**Expressions:**\n",
    "\n",
    "An expression is a statement that combines variables, values, functions and operators."
   ]
  },
  {
   "cell_type": "code",
   "execution_count": 25,
   "id": "07ec1003",
   "metadata": {},
   "outputs": [
    {
     "data": {
      "text/plain": [
       "600"
      ]
     },
     "execution_count": 25,
     "metadata": {},
     "output_type": "execute_result"
    }
   ],
   "source": [
    "area*thickness  # expression"
   ]
  },
  {
   "cell_type": "markdown",
   "id": "35150f09",
   "metadata": {},
   "source": [
    "A statement could combine both types such that the result of an expression on the RHS is assigned to a variable named on the LHS."
   ]
  },
  {
   "cell_type": "code",
   "execution_count": 26,
   "id": "bdbb1b87",
   "metadata": {},
   "outputs": [
    {
     "name": "stdout",
     "output_type": "stream",
     "text": [
      "162.0\n"
     ]
    }
   ],
   "source": [
    "pv = area*thickness*poro\n",
    "\n",
    "print(pv)"
   ]
  },
  {
   "cell_type": "markdown",
   "id": "d79f7454",
   "metadata": {},
   "source": [
    "**Input Statements**\n",
    "\n",
    "Input statements are used to request and accept data from users; commonly by calling the in-built Function **_input_**."
   ]
  },
  {
   "cell_type": "code",
   "execution_count": 29,
   "id": "c4b2b76c",
   "metadata": {},
   "outputs": [
    {
     "name": "stdout",
     "output_type": "stream",
     "text": [
      "Enter the value of porosity\n",
      "0.28\n",
      "Enter the value of drainage area\n",
      "40\n",
      "Enter the value of pay-zone thickness\n",
      "15\n",
      "The pore volume of your reservoir is 168.00000000000003 acre-ft\n"
     ]
    }
   ],
   "source": [
    "# input statements\n",
    "\n",
    "\n",
    "poro = input('Enter the value of porosity\\n')\n",
    "area = input('Enter the value of drainage area\\n')\n",
    "thickness = input('Enter the value of pay-zone thickness\\n')\n",
    "\n",
    "poro = float(poro)\n",
    "area = float(area)\n",
    "thickness = float(thickness)\n",
    "\n",
    "bv = area*thickness\n",
    "\n",
    "pv = bv*poro\n",
    "\n",
    "print(f'The pore volume of your reservoir is {pv} acre-ft')"
   ]
  },
  {
   "cell_type": "code",
   "execution_count": null,
   "id": "7310ca03",
   "metadata": {},
   "outputs": [],
   "source": []
  },
  {
   "cell_type": "markdown",
   "id": "87f2e2d5",
   "metadata": {},
   "source": [
    "Please, take note that users’ response to the *input* function prompt is automatically stored as a string.\n",
    "Before using such input values in a mathematical operation, they should be converted to a numerical type using Functions *float* or *int*; else, an error will be thrown."
   ]
  },
  {
   "cell_type": "code",
   "execution_count": 19,
   "id": "6a5ba032",
   "metadata": {},
   "outputs": [
    {
     "ename": "TypeError",
     "evalue": "can't multiply sequence by non-int of type 'str'",
     "output_type": "error",
     "traceback": [
      "\u001b[1;31m---------------------------------------------------------------------------\u001b[0m",
      "\u001b[1;31mTypeError\u001b[0m                                 Traceback (most recent call last)",
      "Input \u001b[1;32mIn [19]\u001b[0m, in \u001b[0;36m<cell line: 1>\u001b[1;34m()\u001b[0m\n\u001b[1;32m----> 1\u001b[0m bv \u001b[38;5;241m=\u001b[39m \u001b[43mporo\u001b[49m\u001b[38;5;241;43m*\u001b[39;49m\u001b[43marea\u001b[49m\u001b[38;5;241m*\u001b[39mthickness\n",
      "\u001b[1;31mTypeError\u001b[0m: can't multiply sequence by non-int of type 'str'"
     ]
    }
   ],
   "source": [
    "bv = poro*area*thickness"
   ]
  },
  {
   "cell_type": "code",
   "execution_count": 22,
   "id": "a1665ea9",
   "metadata": {},
   "outputs": [],
   "source": [
    "poro = float(poro)\n",
    "area = float(area)\n",
    "thickness = float(thickness)\n",
    "\n",
    "pv = poro*area*thickness"
   ]
  },
  {
   "cell_type": "markdown",
   "id": "d99233ff",
   "metadata": {},
   "source": [
    "**Output Statements**\n",
    "\n",
    "Output statements used to display the results of statement execution on the screen; commonly by calling Function **_print_**."
   ]
  },
  {
   "cell_type": "code",
   "execution_count": 30,
   "id": "b93ff367",
   "metadata": {},
   "outputs": [
    {
     "name": "stdout",
     "output_type": "stream",
     "text": [
      "168.00000000000003\n"
     ]
    }
   ],
   "source": [
    "print(pv)"
   ]
  },
  {
   "cell_type": "code",
   "execution_count": 31,
   "id": "ef23639e",
   "metadata": {},
   "outputs": [
    {
     "name": "stdout",
     "output_type": "stream",
     "text": [
      "The pore volume of the reservoir is 168.00000000000003 Acre-ft\n"
     ]
    }
   ],
   "source": [
    "print(f'The pore volume of the reservoir is {pv} Acre-ft')"
   ]
  },
  {
   "cell_type": "markdown",
   "id": "64791c40",
   "metadata": {},
   "source": [
    "**Principle of Sequential Execution of Statements**\n",
    "\n",
    "Typically, a program would entail multiple statements.\n",
    "\n",
    "Statements are executed in the order (sequence) in which they are encountered.\n",
    "\n",
    "Latter statements can make use of results of former statements; not vice-versa"
   ]
  },
  {
   "cell_type": "code",
   "execution_count": 41,
   "id": "a31964da",
   "metadata": {},
   "outputs": [
    {
     "name": "stdout",
     "output_type": "stream",
     "text": [
      "400.0\n",
      "20\n",
      "40\n"
     ]
    }
   ],
   "source": [
    "\n",
    "area_tri = 0.5*base*height\n",
    "\n",
    "base = 20\n",
    "height = 40\n",
    "\n",
    "print(area_tri)\n",
    "print(base)\n",
    "print(height)"
   ]
  },
  {
   "cell_type": "markdown",
   "id": "060117f2",
   "metadata": {},
   "source": [
    "**Multi-line Statements**\n",
    "\n",
    "Typically, a Python statement is written in a single line.\n",
    "\n",
    "However, if the statement is too long, it could be continued in the next line; but the current line should end with the line continuation character i.e. \\"
   ]
  },
  {
   "cell_type": "code",
   "execution_count": 34,
   "id": "f8efdc34",
   "metadata": {},
   "outputs": [
    {
     "data": {
      "text/plain": [
       "68"
      ]
     },
     "execution_count": 34,
     "metadata": {},
     "output_type": "execute_result"
    }
   ],
   "source": [
    "17 +2 + 9 + 23 \\\n",
    "+ 3 + 14"
   ]
  },
  {
   "cell_type": "markdown",
   "id": "34ab42fc",
   "metadata": {},
   "source": [
    "**Multiple statements in a line**\n",
    "\n",
    "Writing multiple statements in same line is not encouraged; however, if that has to be done, the statements should be separated by semicolon.\n"
   ]
  },
  {
   "cell_type": "code",
   "execution_count": 35,
   "id": "50558bfa",
   "metadata": {},
   "outputs": [
    {
     "name": "stdout",
     "output_type": "stream",
     "text": [
      "45\n"
     ]
    }
   ],
   "source": [
    "poro = 0.18; area = 45; thickness = 15\n",
    "\n",
    "print(area)"
   ]
  },
  {
   "cell_type": "markdown",
   "id": "9117dc75",
   "metadata": {},
   "source": [
    "### Mathematical Operators"
   ]
  },
  {
   "cell_type": "markdown",
   "id": "1891fa90",
   "metadata": {},
   "source": [
    "Operators are symbols of mathematical operations.\n",
    "\n",
    "1. '**+**' for addition\n",
    "2. '**-**' for subtraction\n",
    "3. **'*'** for multiplication\n",
    "4. '**/**' for division\n",
    "5. '**' for exponentiation (raise to power)\n",
    "6. '**//**' integer division (truncates the result of division to its integer part. \n",
    "7. '**%**' modulus (gives the remainder of an  integer division).\n",
    "\n",
    "The objects acted upon by operators are called operands."
   ]
  },
  {
   "cell_type": "code",
   "execution_count": 44,
   "id": "9a4cf074",
   "metadata": {},
   "outputs": [
    {
     "data": {
      "text/plain": [
       "12"
      ]
     },
     "execution_count": 44,
     "metadata": {},
     "output_type": "execute_result"
    }
   ],
   "source": [
    "5+7\n"
   ]
  },
  {
   "cell_type": "code",
   "execution_count": 45,
   "id": "a991be51",
   "metadata": {},
   "outputs": [
    {
     "data": {
      "text/plain": [
       "3"
      ]
     },
     "execution_count": 45,
     "metadata": {},
     "output_type": "execute_result"
    }
   ],
   "source": [
    "12-9"
   ]
  },
  {
   "cell_type": "code",
   "execution_count": 46,
   "id": "34c9fa46",
   "metadata": {},
   "outputs": [
    {
     "data": {
      "text/plain": [
       "18"
      ]
     },
     "execution_count": 46,
     "metadata": {},
     "output_type": "execute_result"
    }
   ],
   "source": [
    "6*3"
   ]
  },
  {
   "cell_type": "code",
   "execution_count": 47,
   "id": "44e62073",
   "metadata": {},
   "outputs": [
    {
     "data": {
      "text/plain": [
       "3.0"
      ]
     },
     "execution_count": 47,
     "metadata": {},
     "output_type": "execute_result"
    }
   ],
   "source": [
    "24/8"
   ]
  },
  {
   "cell_type": "code",
   "execution_count": 50,
   "id": "8e355df1",
   "metadata": {},
   "outputs": [
    {
     "data": {
      "text/plain": [
       "625"
      ]
     },
     "execution_count": 50,
     "metadata": {},
     "output_type": "execute_result"
    }
   ],
   "source": [
    "5**4"
   ]
  },
  {
   "cell_type": "code",
   "execution_count": 51,
   "id": "db062f36",
   "metadata": {},
   "outputs": [
    {
     "data": {
      "text/plain": [
       "7"
      ]
     },
     "execution_count": 51,
     "metadata": {},
     "output_type": "execute_result"
    }
   ],
   "source": [
    "# integer division\n",
    "30//4"
   ]
  },
  {
   "cell_type": "code",
   "execution_count": 52,
   "id": "0f98cf49",
   "metadata": {},
   "outputs": [
    {
     "data": {
      "text/plain": [
       "2"
      ]
     },
     "execution_count": 52,
     "metadata": {},
     "output_type": "execute_result"
    }
   ],
   "source": [
    "# modulos\n",
    "30%4"
   ]
  },
  {
   "cell_type": "code",
   "execution_count": 53,
   "id": "2b1178c0",
   "metadata": {},
   "outputs": [],
   "source": [
    "def ani(x,y):\n",
    "    quo = x//y\n",
    "    rem = x%y\n",
    "    return (quo, rem)"
   ]
  },
  {
   "cell_type": "code",
   "execution_count": 54,
   "id": "46d1100d",
   "metadata": {},
   "outputs": [
    {
     "data": {
      "text/plain": [
       "(7, 2)"
      ]
     },
     "execution_count": 54,
     "metadata": {},
     "output_type": "execute_result"
    }
   ],
   "source": [
    "ani(30,4)"
   ]
  },
  {
   "cell_type": "markdown",
   "id": "65bdf442",
   "metadata": {},
   "source": [
    "The modulos operator could be used to check if a denominator can perfectly divide a numerator; in such case, the modulos (remainder) would return a value of zero."
   ]
  },
  {
   "cell_type": "code",
   "execution_count": 59,
   "id": "99d0ab81",
   "metadata": {},
   "outputs": [
    {
     "data": {
      "text/plain": [
       "1"
      ]
     },
     "execution_count": 59,
     "metadata": {},
     "output_type": "execute_result"
    }
   ],
   "source": [
    "# checking if 63 is divisible by 7\n",
    "63%7 # expecting 0. "
   ]
  },
  {
   "cell_type": "code",
   "execution_count": 58,
   "id": "a7124b29",
   "metadata": {},
   "outputs": [
    {
     "data": {
      "text/plain": [
       "4"
      ]
     },
     "execution_count": 58,
     "metadata": {},
     "output_type": "execute_result"
    }
   ],
   "source": [
    "# checking if 63 is divisible by 14\n",
    "63%14 # expecting non-zero. "
   ]
  },
  {
   "cell_type": "markdown",
   "id": "239eb0f4",
   "metadata": {},
   "source": [
    "**Order of Operations**\n",
    "\n",
    "When multiple operations are featured in a statement, Python executes them in the order specified by the accronym: **PE-MD-AS** (Parenthesis, Exponentiation, Multiplication, Division, Addition and Subtraction).\n",
    "\n",
    "You can used parenthesis to dictate the order you desire.\n",
    "\n",
    "Multiplication and Division has equal precedence; hence are executed left to right.\n",
    "\n",
    "Addition and Subtraction has equal precedence; hence are executed left to right.\n",
    "\n",
    "You may also use parenthesis to make an expression more readable and less confusing.\n",
    "\n",
    "Nested parenthesis are executed from inside to outside."
   ]
  },
  {
   "attachments": {
    "image.png": {
     "image/png": "[encoded data removed]"
    }
   },
   "cell_type": "markdown",
   "id": "7099498c",
   "metadata": {},
   "source": [
    "![image.png](attachment:image.png)"
   ]
  },
  {
   "cell_type": "code",
   "execution_count": 61,
   "id": "df9e4721",
   "metadata": {},
   "outputs": [
    {
     "data": {
      "text/plain": [
       "512"
      ]
     },
     "execution_count": 61,
     "metadata": {},
     "output_type": "execute_result"
    }
   ],
   "source": [
    "(3+5)**(9-6)    \n",
    "\n",
    "# equivalent to \n",
    "# 8**3"
   ]
  },
  {
   "cell_type": "code",
   "execution_count": 14,
   "id": "675d6123",
   "metadata": {},
   "outputs": [
    {
     "data": {
      "text/plain": [
       "526"
      ]
     },
     "execution_count": 14,
     "metadata": {},
     "output_type": "execute_result"
    }
   ],
   "source": [
    "14+(3+5)**(9-6)"
   ]
  },
  {
   "cell_type": "markdown",
   "id": "63b6f12d",
   "metadata": {},
   "source": [
    "Oh! No, I mean the result of $14+(3+5)$ should be raised to the power $(9-6)$\n",
    "\n",
    "Oh! In that case, use parenthesis to dictate the order."
   ]
  },
  {
   "cell_type": "code",
   "execution_count": 15,
   "id": "02e7496e",
   "metadata": {},
   "outputs": [
    {
     "data": {
      "text/plain": [
       "10648"
      ]
     },
     "execution_count": 15,
     "metadata": {},
     "output_type": "execute_result"
    }
   ],
   "source": [
    "(   14+(3+5)  )**(9-6)"
   ]
  },
  {
   "cell_type": "code",
   "execution_count": 16,
   "id": "c5b85eed",
   "metadata": {},
   "outputs": [
    {
     "data": {
      "text/plain": [
       "1064.8"
      ]
     },
     "execution_count": 16,
     "metadata": {},
     "output_type": "execute_result"
    }
   ],
   "source": [
    "(  14+(3+5)  )**(9-6)/10"
   ]
  },
  {
   "cell_type": "code",
   "execution_count": 19,
   "id": "2e33d1e4",
   "metadata": {},
   "outputs": [
    {
     "data": {
      "text/plain": [
       "2.5277074255111027"
      ]
     },
     "execution_count": 19,
     "metadata": {},
     "output_type": "execute_result"
    }
   ],
   "source": [
    "(  14+(3+5)  )**(  (9-6)/10)"
   ]
  },
  {
   "cell_type": "markdown",
   "id": "32d13683",
   "metadata": {},
   "source": [
    "### String Operations"
   ]
  },
  {
   "cell_type": "markdown",
   "id": "7ae9b68a",
   "metadata": {},
   "source": [
    "Strings can be joined end-to-end by using the + operator."
   ]
  },
  {
   "cell_type": "code",
   "execution_count": 26,
   "id": "2f32c5e5",
   "metadata": {},
   "outputs": [
    {
     "data": {
      "text/plain": [
       "'TTOWG:to the only wise God'"
      ]
     },
     "execution_count": 26,
     "metadata": {},
     "output_type": "execute_result"
    }
   ],
   "source": [
    "'TTOWG:'    +     'to the only wise God' # concatenate"
   ]
  },
  {
   "cell_type": "code",
   "execution_count": 65,
   "id": "eac7691f",
   "metadata": {},
   "outputs": [
    {
     "data": {
      "text/plain": [
       "261"
      ]
     },
     "execution_count": 65,
     "metadata": {},
     "output_type": "execute_result"
    }
   ],
   "source": [
    "'256' + '5'"
   ]
  },
  {
   "cell_type": "code",
   "execution_count": 67,
   "id": "5fac9339",
   "metadata": {},
   "outputs": [
    {
     "data": {
      "text/plain": [
       "'Mosobalaje Olatunde'"
      ]
     },
     "execution_count": 67,
     "metadata": {},
     "output_type": "execute_result"
    }
   ],
   "source": [
    "'Mosobalaje '+'Olatunde'"
   ]
  },
  {
   "cell_type": "markdown",
   "id": "721cdcf1",
   "metadata": {},
   "source": [
    "Oh, I need space there!\n",
    "\n",
    "If you want a space between the strings, then include it in one of the strings."
   ]
  },
  {
   "cell_type": "code",
   "execution_count": 24,
   "id": "3f93a466",
   "metadata": {},
   "outputs": [
    {
     "data": {
      "text/plain": [
       "'TTOWG: to the only wise God'"
      ]
     },
     "execution_count": 24,
     "metadata": {},
     "output_type": "execute_result"
    }
   ],
   "source": [
    "'TTOWG: ' + 'to the only wise God'"
   ]
  },
  {
   "cell_type": "markdown",
   "id": "30dc4644",
   "metadata": {},
   "source": [
    "Also, a string can be repeated multiple times using the * operator (with an integer, of course)."
   ]
  },
  {
   "cell_type": "code",
   "execution_count": 69,
   "id": "ce540ddf",
   "metadata": {},
   "outputs": [
    {
     "data": {
      "text/plain": [
       "'Confusion Matrix!!! Confusion Matrix!!! Confusion Matrix!!! '"
      ]
     },
     "execution_count": 69,
     "metadata": {},
     "output_type": "execute_result"
    }
   ],
   "source": [
    "3*'Confusion Matrix!!! '"
   ]
  },
  {
   "cell_type": "code",
   "execution_count": 70,
   "id": "29e6f8df",
   "metadata": {},
   "outputs": [
    {
     "data": {
      "text/plain": [
       "'Confusion Matrix!!! Confusion Matrix!!! Confusion Matrix!!! '"
      ]
     },
     "execution_count": 70,
     "metadata": {},
     "output_type": "execute_result"
    }
   ],
   "source": [
    "'Confusion Matrix!!! '*3"
   ]
  },
  {
   "cell_type": "code",
   "execution_count": 71,
   "id": "3c63206b",
   "metadata": {},
   "outputs": [
    {
     "data": {
      "text/plain": [
       "'645 645 645 645 '"
      ]
     },
     "execution_count": 71,
     "metadata": {},
     "output_type": "execute_result"
    }
   ],
   "source": [
    "'645 '*4"
   ]
  },
  {
   "cell_type": "markdown",
   "id": "7a12f3a3",
   "metadata": {},
   "source": [
    "### Conditional Statements"
   ]
  },
  {
   "cell_type": "markdown",
   "id": "4d85b5a7",
   "metadata": {},
   "source": [
    "Conditional statements are written to make it possible for a program to check for some condition(s) and decide to either:\n",
    "+ perform a statement(s) or skip the statement(s), or \n",
    "+ choose between alternative (branches of) statements.\n",
    "\n",
    "So, the concept of condition is central to this kind of statements.\n",
    "\n",
    "These conditions are crafted using the concept of Boolean expressions.\n"
   ]
  },
  {
   "cell_type": "markdown",
   "id": "d465f457",
   "metadata": {},
   "source": [
    "A Boolean is a type of value; it can only be either **True** or **False**\n",
    "\n",
    "Just like the integer type can take values 1, 2, 3 e.t.c; the Boolean type can take one of just two values: True or False.\n",
    "\n",
    "For this reason, ‘True’ and ‘False’ are Python keywords reserved for Boolean values; a variable must not be named using these words. \n",
    "\n",
    "Now, a Boolean expression is essentially a comparison expression that evaluates to either True or False.\n"
   ]
  },
  {
   "cell_type": "code",
   "execution_count": 6,
   "id": "5a03bc0e",
   "metadata": {},
   "outputs": [
    {
     "data": {
      "text/plain": [
       "bool"
      ]
     },
     "execution_count": 6,
     "metadata": {},
     "output_type": "execute_result"
    }
   ],
   "source": [
    "type(True)"
   ]
  },
  {
   "cell_type": "code",
   "execution_count": 31,
   "id": "3bc084e8",
   "metadata": {},
   "outputs": [
    {
     "data": {
      "text/plain": [
       "bool"
      ]
     },
     "execution_count": 31,
     "metadata": {},
     "output_type": "execute_result"
    }
   ],
   "source": [
    "type(False)"
   ]
  },
  {
   "cell_type": "code",
   "execution_count": 8,
   "id": "8e5236bc",
   "metadata": {},
   "outputs": [
    {
     "data": {
      "text/plain": [
       "False"
      ]
     },
     "execution_count": 8,
     "metadata": {},
     "output_type": "execute_result"
    }
   ],
   "source": [
    "2>7"
   ]
  },
  {
   "cell_type": "code",
   "execution_count": 9,
   "id": "caf5f364",
   "metadata": {},
   "outputs": [
    {
     "data": {
      "text/plain": [
       "True"
      ]
     },
     "execution_count": 9,
     "metadata": {},
     "output_type": "execute_result"
    }
   ],
   "source": [
    "5>4"
   ]
  },
  {
   "cell_type": "markdown",
   "id": "41f3508a",
   "metadata": {},
   "source": [
    "Boolean expressions are constructed using comparison operators listed here.\n",
    "\n",
    "Take note that = is an assignment operator while == is a comparison operator."
   ]
  },
  {
   "cell_type": "code",
   "execution_count": 11,
   "id": "f95f91da",
   "metadata": {},
   "outputs": [],
   "source": [
    "init_pressure = 4000\n",
    "bubble_pressure = 2800\n"
   ]
  },
  {
   "cell_type": "code",
   "execution_count": 15,
   "id": "a9fdf048",
   "metadata": {},
   "outputs": [
    {
     "data": {
      "text/plain": [
       "False"
      ]
     },
     "execution_count": 15,
     "metadata": {},
     "output_type": "execute_result"
    }
   ],
   "source": [
    "init_pressure == bubble_pressure # a == b asks: is a equal to b?"
   ]
  },
  {
   "cell_type": "code",
   "execution_count": 16,
   "id": "202ed12e",
   "metadata": {},
   "outputs": [
    {
     "data": {
      "text/plain": [
       "True"
      ]
     },
     "execution_count": 16,
     "metadata": {},
     "output_type": "execute_result"
    }
   ],
   "source": [
    "init_pressure != bubble_pressure  # a != b asks: is a not equal to b?"
   ]
  },
  {
   "cell_type": "code",
   "execution_count": 17,
   "id": "e49b2a0c",
   "metadata": {},
   "outputs": [
    {
     "data": {
      "text/plain": [
       "True"
      ]
     },
     "execution_count": 17,
     "metadata": {},
     "output_type": "execute_result"
    }
   ],
   "source": [
    "init_pressure > bubble_pressure  # a > b asks: is a greater than b?"
   ]
  },
  {
   "cell_type": "code",
   "execution_count": 20,
   "id": "1c11e770",
   "metadata": {},
   "outputs": [
    {
     "data": {
      "text/plain": [
       "False"
      ]
     },
     "execution_count": 20,
     "metadata": {},
     "output_type": "execute_result"
    }
   ],
   "source": [
    "init_pressure < bubble_pressure  # a < b asks: is a less than b?"
   ]
  },
  {
   "cell_type": "code",
   "execution_count": 21,
   "id": "be604521",
   "metadata": {},
   "outputs": [
    {
     "data": {
      "text/plain": [
       "False"
      ]
     },
     "execution_count": 21,
     "metadata": {},
     "output_type": "execute_result"
    }
   ],
   "source": [
    "init_pressure >= 4200  # a >= b asks: is a at least up to the value of b?"
   ]
  },
  {
   "cell_type": "code",
   "execution_count": 7,
   "id": "430d10cb",
   "metadata": {},
   "outputs": [
    {
     "data": {
      "text/plain": [
       "True"
      ]
     },
     "execution_count": 7,
     "metadata": {},
     "output_type": "execute_result"
    }
   ],
   "source": [
    "init_pressure <= 4200  # a >= b asks: is a at most up to the value of b?"
   ]
  },
  {
   "cell_type": "code",
   "execution_count": 8,
   "id": "07ebd502",
   "metadata": {},
   "outputs": [
    {
     "data": {
      "text/plain": [
       "False"
      ]
     },
     "execution_count": 8,
     "metadata": {},
     "output_type": "execute_result"
    }
   ],
   "source": [
    "init_pressure is bubble_pressure  # same as =="
   ]
  },
  {
   "cell_type": "code",
   "execution_count": 9,
   "id": "4d14468b",
   "metadata": {},
   "outputs": [
    {
     "data": {
      "text/plain": [
       "True"
      ]
     },
     "execution_count": 9,
     "metadata": {},
     "output_type": "execute_result"
    }
   ],
   "source": [
    "init_pressure is not bubble_pressure  # same as !="
   ]
  },
  {
   "cell_type": "markdown",
   "id": "5e7dd1f5",
   "metadata": {},
   "source": [
    "**Logical Operators**\n",
    "\n",
    "Sometimes, multiple conditions needed to be  checked in a conditional statement.\n",
    "\n",
    "Logical operators are used to combine Boolean expressions.\n",
    "\n",
    "+ Operator **and** returns True if all conditions are true, otherwise, False is returned.\n",
    "\n",
    "+ Operator **or** returns True if at least one of the conditions is true, otherwise, False is returned.\n",
    "\n",
    "Logical operators are also used to negate Boolean expressions\n",
    "\n",
    "+ Operator **not** returns True for a false condition and vice-versa"
   ]
  },
  {
   "cell_type": "code",
   "execution_count": 22,
   "id": "51626e8c",
   "metadata": {},
   "outputs": [
    {
     "data": {
      "text/plain": [
       "True"
      ]
     },
     "execution_count": 22,
     "metadata": {},
     "output_type": "execute_result"
    }
   ],
   "source": [
    "2<3 and 7>5"
   ]
  },
  {
   "cell_type": "code",
   "execution_count": 11,
   "id": "032db5ba",
   "metadata": {},
   "outputs": [
    {
     "data": {
      "text/plain": [
       "False"
      ]
     },
     "execution_count": 11,
     "metadata": {},
     "output_type": "execute_result"
    }
   ],
   "source": [
    "2<3 and 7<5"
   ]
  },
  {
   "cell_type": "code",
   "execution_count": 12,
   "id": "787c1a55",
   "metadata": {},
   "outputs": [
    {
     "data": {
      "text/plain": [
       "True"
      ]
     },
     "execution_count": 12,
     "metadata": {},
     "output_type": "execute_result"
    }
   ],
   "source": [
    "2<3 or 7<5"
   ]
  },
  {
   "cell_type": "code",
   "execution_count": 13,
   "id": "0519c75b",
   "metadata": {},
   "outputs": [
    {
     "data": {
      "text/plain": [
       "False"
      ]
     },
     "execution_count": 13,
     "metadata": {},
     "output_type": "execute_result"
    }
   ],
   "source": [
    "not(7>5)"
   ]
  },
  {
   "cell_type": "markdown",
   "id": "64894df7",
   "metadata": {},
   "source": [
    "### Conditional Structure"
   ]
  },
  {
   "cell_type": "markdown",
   "id": "a41e97b0",
   "metadata": {},
   "source": [
    "#### Conditional Execution"
   ]
  },
  {
   "cell_type": "markdown",
   "id": "104f3477",
   "metadata": {},
   "source": [
    "**if...** statements"
   ]
  },
  {
   "attachments": {
    "image.png": {
     "image/png": "[encoded data removed]"
    }
   },
   "cell_type": "markdown",
   "id": "88a8b52e",
   "metadata": {},
   "source": [
    "![image.png](attachment:image.png)"
   ]
  },
  {
   "cell_type": "markdown",
   "id": "220cd73e",
   "metadata": {},
   "source": [
    "**if...** statements evaluates the given **condition** (to **True** or **False**); performs the given statement(s) if condition is True and skips the given statement(s) if condition is False.\n",
    "\n",
    "The condition(s) is written after the **if** keyword and ended with a colon i.e. **:**\n",
    "\n",
    "The statements to be performed or skipped are written as an indented block in subsequent line(s).\n",
    "\n",
    "Remove the indentation in lines after the if block."
   ]
  },
  {
   "cell_type": "code",
   "execution_count": 24,
   "id": "b4637301",
   "metadata": {},
   "outputs": [
    {
     "name": "stdout",
     "output_type": "stream",
     "text": [
      "Goodluck\n"
     ]
    }
   ],
   "source": [
    "perm = 45\n",
    "\n",
    "if perm > 50:\n",
    "    print('Good permeability')\n",
    "\n",
    "print('Goodluck')"
   ]
  },
  {
   "cell_type": "markdown",
   "id": "ae504382",
   "metadata": {},
   "source": [
    "**Petroleum Engineering Example**\n",
    "\n",
    "Sutton developed a correlation for estimating for estimating $P_{pc}$ and $T_{pc}$ as functions of gas gravity.\n",
    "\n",
    "Here is the first step in Sutton’s procedure:\n",
    "\n",
    "+ If the gas mixture contains $<12mol%$ of $CO_{2}$ AND $<3mol%$ of Nitrogen AND no $H_{2}S$, then the parameter $\\gamma_h$ takes the same value as the given gas gravity, $\\gamma_w$; no need for correction.\n",
    "\n",
    "+ However, if gas mixture contains $>12mol%$ of $CO_{2}$ OR $>3mol%$ of Nitrogen AND $>0mol%$ of $H_{2}S$, then the parameter $\\gamma_h$ is determined thus:\n",
    "\n",
    "$$\\gamma_h = \\frac{\\gamma_w - 1.1767y_{H_{2}S}-1.5196y_{CO_{2}}-0.9672y_{N_{2}}-0.622y_{H_{2}O}}{1-y_{H_{2}S}-y_{CO_{2}}-y_{N_{2}}-y_{H_{2}O}}$$\n"
   ]
  },
  {
   "cell_type": "markdown",
   "id": "983517a0",
   "metadata": {},
   "source": [
    "The first step in Sutton’s can be executed with an **if …** statement.\n",
    "\n",
    "Observe that the procedure implies that if any of the impurities in the gas exceeds the stated threshold value, then, the given gas gravity $\\gamma_w$ need to be corrected for the effects of the impurities, using the given equation.\n",
    "\n",
    "However, the correction task should be neglected if none of the impurities exceeds its threshold value.\n",
    "\n",
    "To execute this procedure, we simply construct a Boolean condition to test if any threshold is violated.\n",
    "\n",
    "If the condition is evaluated as True, then a block of statement to perform the gas gravity correction is executed.\n",
    "\n",
    "If the condition is evaluated to be False, there is no need for the correction, hence, the block of statement is skipped."
   ]
  },
  {
   "cell_type": "code",
   "execution_count": null,
   "id": "37fcb5ff",
   "metadata": {},
   "outputs": [],
   "source": [
    "#...TTOWG!\n",
    "\n",
    "# input statements\n",
    "co2_comp = input('What is the CO2 composition?')\n",
    "n2_comp = input('What is the n2 composition?')\n",
    "h2s_comp = input('What is the h2s composition?')\n",
    "h2o_comp = input('What is the h2o composition?')\n",
    "gas_gravity = input('What is the measured gas gravity?')\n",
    "\n",
    " # convert inputs to numerals\n",
    "co2_comp = float(co2_comp)\n",
    "n2_comp = float(n2_comp)\n",
    "h2s_comp = float(h2s_comp)\n",
    "h2o_comp = float(h2o_comp)\n",
    "gas_gravity = float(gas_gravity)\n",
    "\n",
    "# the if statement\n",
    "\n",
    "if co2_comp > 0.12 or n2_comp > 0.03 or h2s_comp > 0:\n",
    "    gas_gravity = (gas_gravity - (1.1767*h2s_comp) - \\\n",
    "                      (1.5196*co2_comp) - (0.9672*n2_comp) - \\\n",
    "                       (0.622*h2o_comp))/(1- h2s_comp - co2_comp - n2_comp - h2o_comp)\n",
    "    print('The corrected gas gravity is', gas_gravity)\n",
    "    \n",
    "\n",
    "# continuing after the if block\n",
    "\n",
    "# computing pseudo-critical pressure and temperature of the hydrocarbon mixture\n",
    "\n",
    "p_pch = 756.8 - (131*gas_gravity) - (3.6*gas_gravity**2)\n",
    "t_pch = 169.2 + (349.5*gas_gravity) - (74.0*gas_gravity**2)\n",
    "\n",
    "# displaying the results.\n",
    "print('The hydrocarbon pseudo-critical pressure is {0:.2f} psia'.format(p_pch))\n",
    "print('The hydrocarbon pseudo-critical temperature is {0:.2f} deg Rankine'.format(p_pch))"
   ]
  },
  {
   "cell_type": "markdown",
   "id": "fa8dc8cc",
   "metadata": {},
   "source": [
    "#### Conditional Execution"
   ]
  },
  {
   "attachments": {},
   "cell_type": "markdown",
   "id": "23548635",
   "metadata": {},
   "source": [
    "The **if…then…else** structure is deployed when there are two alternative tasks and a condition that determines which of the two alternatives should be executed.\n",
    "\n",
    "Essentially, there will be a Boolean condition, and two blocks (branches) of statements.\n",
    "\n",
    "The first branch (after the condition) is to be executed if the condition evaluates to True while the second branch (after the keyword ‘else’) is executed if the condition evaluates to False."
   ]
  },
  {
   "attachments": {
    "image-2.png": {
     "image/png": "[encoded data removed]"
    }
   },
   "cell_type": "markdown",
   "id": "da6ab694",
   "metadata": {},
   "source": [
    "![image-2.png](attachment:image-2.png)"
   ]
  },
  {
   "attachments": {},
   "cell_type": "markdown",
   "id": "bf7c36f4",
   "metadata": {},
   "source": [
    "The condition(s) is written after the if keyword and ended with a colon i.e. (:)\n",
    "\n",
    "Then, the statement(s) to be performed if condition is True (i.e., Branch True) are written as an indented block in subsequent line(s).\n",
    "\n",
    "Thereafter, the keyword ‘else’ is written on the next line just after the Branch True. The ‘else’ keyword should be indented to the same level as the ‘if’ keyword.\n",
    "\n",
    "Finally, the statement(s) to be performed if condition is False (i.e., Branch False) are written as an indented block in subsequent line(s)."
   ]
  },
  {
   "cell_type": "code",
   "execution_count": null,
   "id": "b18b759a",
   "metadata": {},
   "outputs": [],
   "source": [
    "perm = input('What is the value of permeability')\n",
    "perm = float(perm)\n",
    "\n",
    "if perm > 50:\n",
    "    print('Active gridblock')\n",
    "else:\n",
    "    print('Inactive gridblock')"
   ]
  },
  {
   "attachments": {},
   "cell_type": "markdown",
   "id": "abc4bb63",
   "metadata": {},
   "source": [
    "**Petroleum Engineering Application: Computing Oil Formation Volume Factor $B_o$**\n",
    "\n",
    "The variation of oil formation volume factor, $B_o$,  with pressure is divided into two pressure regimes, as shown.\n",
    "\n"
   ]
  },
  {
   "attachments": {
    "image.png": {
     "image/png": "[encoded data removed]"
    }
   },
   "cell_type": "markdown",
   "id": "4467bce5",
   "metadata": {},
   "source": [
    "![image.png](attachment:image.png)"
   ]
  },
  {
   "attachments": {},
   "cell_type": "markdown",
   "id": "5c4d1023",
   "metadata": {},
   "source": [
    "For pressures below or equal to bubble point, Standing’s correlation for calculating Bo is herein presented:\n",
    "\n",
    "$$𝐵_𝑜=0.9759+0.00012𝐹^{1.2}$$\n",
    "\n",
    " 𝑊ℎ𝑒𝑟𝑒 \n",
    " \n",
    " $$𝐹= 𝑅_𝑠 (\\frac{\\gamma_g}{\\gamma_o})^{0.5}+1.25T_F$$\n",
    "\n",
    "Note: TF is temperature in degree Fahrenheit."
   ]
  },
  {
   "cell_type": "markdown",
   "id": "4f2ad9af",
   "metadata": {},
   "source": [
    "For pressure above bubble point, the analytical equation for computing Bo is given as:\n",
    " \n",
    "$$𝐵_𝑜= 𝐵_{ob} 𝑒^{[c_o (P_b−P)]}$$\n",
    "\n",
    "$B_{ob}$ is the $B_o$ at bubble point and can be computed using the equations above.\n"
   ]
  },
  {
   "cell_type": "markdown",
   "id": "07c0897b",
   "metadata": {},
   "source": [
    "To execute this procedure, we simply construct a  Boolean condition to test if the current reservoir pressure, p, is greater than the bubble-point pressure of the reservoir.\n",
    "\n",
    "If the condition is evaluated as True, then a block of statement to implement Equation 2.37 is executed.\n",
    "\n",
    "Else, if the condition is evaluated to be False, then a block of statement to implement Equation 2.35 is executed.\n",
    "\n",
    "Note that Equation 2.36 need to be implemented for either of the alternatives, hence, the line to execute it is written before the if…then…else statement.\n"
   ]
  },
  {
   "cell_type": "code",
   "execution_count": null,
   "id": "c87fbef4",
   "metadata": {},
   "outputs": [],
   "source": [
    "#...TTOWG!\n",
    "\n",
    "# input statements\n",
    "gas_gravity = float(input('What is the value of gas gravity?'))\n",
    "oil_gravity = float(input('What is the value of oil gravity?'))\n",
    "tf = float(input('What is the value of reservoir temperature in Fahrenheit?'))\n",
    "p = float(input('What is the value of current reservoir pressure?'))\n",
    "rs = float(input('What is the value of solution gas-oil ratio at current reservoir pressure?'))\n",
    "pb = float(input('What is the value of reservoir bubble point pressure?'))\n",
    "\n",
    "\n",
    "# importing needed library\n",
    "import math\n",
    "\n",
    "# calculating F parameter\n",
    "F = (rs*((gas_gravity/oil_gravity)**0.5))+(1.25*tf)\n",
    " \n",
    "# the if-then-else statement\n",
    "\n",
    "if p > pb:\n",
    "    co = float(input('What is the value of oil compressibility?'))\n",
    "    bob = 0.9759+(0.00012*(F**1.2)) # assuming gas_gravity and oil_gravity are constant for all pressures above pb\n",
    "    bo = bob*(math.exp(co*(pb-p)))\n",
    "else:\n",
    "    bo = 0.9759+(0.00012*(F**1.2))\n",
    "\n",
    "# continuing after the if block\n",
    "# displaying the results.\n",
    "print('The oil formation volume factor at {0:.2f} is {1:.2f} RB/STB'.format(p, bo))"
   ]
  }
 ],
 "metadata": {
  "kernelspec": {
   "display_name": "Python 3 (ipykernel)",
   "language": "python",
   "name": "python3"
  },
  "language_info": {
   "codemirror_mode": {
    "name": "ipython",
    "version": 3
   },
   "file_extension": ".py",
   "mimetype": "text/x-python",
   "name": "python",
   "nbconvert_exporter": "python",
   "pygments_lexer": "ipython3",
   "version": "3.9.12"
  }
 },
 "nbformat": 4,
 "nbformat_minor": 5
}
